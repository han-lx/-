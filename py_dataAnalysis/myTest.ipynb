{
 "cells": [
  {
   "cell_type": "code",
   "execution_count": 102,
   "outputs": [],
   "source": [
    "import joblib\n",
    "import pandas as pd\n",
    "import numpy as np\n",
    "import lightgbm as lgb\n",
    "import matplotlib.pyplot as plt\n",
    "from sklearn.model_selection import train_test_split\n",
    "from sklearn import metrics\n"
   ],
   "metadata": {
    "collapsed": false,
    "pycharm": {
     "name": "#%%\n"
    }
   }
  },
  {
   "cell_type": "code",
   "execution_count": 53,
   "outputs": [
    {
     "data": {
      "text/plain": "       TypeOfVisitor  UserPageVisitDuration  BounceRate   WebPageValue  \\\n0  Returning_Visitor                 136.00     0.000000           0.0   \n1  Returning_Visitor                  34.25     0.007310           0.0   \n2  Returning_Visitor                   0.00     0.013636           0.0   \n3  Returning_Visitor                   0.00     0.007018           0.0   \n4  Returning_Visitor                   0.00     0.200000           0.0   \n\n   BrowserServer  InformationRelatedPageVisitDuration  Month  ExitRate  \\\n0              2                                 138.0   Mar  0.009697   \n1              2                                  68.5   Nov  0.013520   \n2              2                                   0.0   Dec  0.025515   \n3              2                                   0.0   Nov  0.027875   \n4              4                                   0.0  June  0.200000   \n\n   ProductRelatedPages   ProductRelatedPageVisitDuration  DischargePattern  \\\n0                    54                      2631.100000                 2   \n1                   385                     14505.727250                 3   \n2                   111                      1624.750000                 2   \n3                    57                      1091.005876                 2   \n4                     1                         0.000000                 3   \n\n   InformationRelatedPage Weekend  Holiday  Area  OperatingSystem  \\\n0                     3.0   False      0.0     1              1.0   \n1                     5.0   False      0.0     3              3.0   \n2                     0.0   False      0.0     1              2.0   \n3                     0.0   False      0.0     6              2.0   \n4                     0.0   False      0.0     9              2.0   \n\n   UserRelatedPages  BuyOrNot  \n0               2.0         0  \n1               2.0         0  \n2               0.0         0  \n3               0.0         0  \n4               0.0         0  ",
      "text/html": "<div>\n<style scoped>\n    .dataframe tbody tr th:only-of-type {\n        vertical-align: middle;\n    }\n\n    .dataframe tbody tr th {\n        vertical-align: top;\n    }\n\n    .dataframe thead th {\n        text-align: right;\n    }\n</style>\n<table border=\"1\" class=\"dataframe\">\n  <thead>\n    <tr style=\"text-align: right;\">\n      <th></th>\n      <th>TypeOfVisitor</th>\n      <th>UserPageVisitDuration</th>\n      <th>BounceRate</th>\n      <th>WebPageValue</th>\n      <th>BrowserServer</th>\n      <th>InformationRelatedPageVisitDuration</th>\n      <th>Month</th>\n      <th>ExitRate</th>\n      <th>ProductRelatedPages</th>\n      <th>ProductRelatedPageVisitDuration</th>\n      <th>DischargePattern</th>\n      <th>InformationRelatedPage</th>\n      <th>Weekend</th>\n      <th>Holiday</th>\n      <th>Area</th>\n      <th>OperatingSystem</th>\n      <th>UserRelatedPages</th>\n      <th>BuyOrNot</th>\n    </tr>\n  </thead>\n  <tbody>\n    <tr>\n      <th>0</th>\n      <td>Returning_Visitor</td>\n      <td>136.00</td>\n      <td>0.000000</td>\n      <td>0.0</td>\n      <td>2</td>\n      <td>138.0</td>\n      <td>Mar</td>\n      <td>0.009697</td>\n      <td>54</td>\n      <td>2631.100000</td>\n      <td>2</td>\n      <td>3.0</td>\n      <td>False</td>\n      <td>0.0</td>\n      <td>1</td>\n      <td>1.0</td>\n      <td>2.0</td>\n      <td>0</td>\n    </tr>\n    <tr>\n      <th>1</th>\n      <td>Returning_Visitor</td>\n      <td>34.25</td>\n      <td>0.007310</td>\n      <td>0.0</td>\n      <td>2</td>\n      <td>68.5</td>\n      <td>Nov</td>\n      <td>0.013520</td>\n      <td>385</td>\n      <td>14505.727250</td>\n      <td>3</td>\n      <td>5.0</td>\n      <td>False</td>\n      <td>0.0</td>\n      <td>3</td>\n      <td>3.0</td>\n      <td>2.0</td>\n      <td>0</td>\n    </tr>\n    <tr>\n      <th>2</th>\n      <td>Returning_Visitor</td>\n      <td>0.00</td>\n      <td>0.013636</td>\n      <td>0.0</td>\n      <td>2</td>\n      <td>0.0</td>\n      <td>Dec</td>\n      <td>0.025515</td>\n      <td>111</td>\n      <td>1624.750000</td>\n      <td>2</td>\n      <td>0.0</td>\n      <td>False</td>\n      <td>0.0</td>\n      <td>1</td>\n      <td>2.0</td>\n      <td>0.0</td>\n      <td>0</td>\n    </tr>\n    <tr>\n      <th>3</th>\n      <td>Returning_Visitor</td>\n      <td>0.00</td>\n      <td>0.007018</td>\n      <td>0.0</td>\n      <td>2</td>\n      <td>0.0</td>\n      <td>Nov</td>\n      <td>0.027875</td>\n      <td>57</td>\n      <td>1091.005876</td>\n      <td>2</td>\n      <td>0.0</td>\n      <td>False</td>\n      <td>0.0</td>\n      <td>6</td>\n      <td>2.0</td>\n      <td>0.0</td>\n      <td>0</td>\n    </tr>\n    <tr>\n      <th>4</th>\n      <td>Returning_Visitor</td>\n      <td>0.00</td>\n      <td>0.200000</td>\n      <td>0.0</td>\n      <td>4</td>\n      <td>0.0</td>\n      <td>June</td>\n      <td>0.200000</td>\n      <td>1</td>\n      <td>0.000000</td>\n      <td>3</td>\n      <td>0.0</td>\n      <td>False</td>\n      <td>0.0</td>\n      <td>9</td>\n      <td>2.0</td>\n      <td>0.0</td>\n      <td>0</td>\n    </tr>\n  </tbody>\n</table>\n</div>"
     },
     "execution_count": 53,
     "metadata": {},
     "output_type": "execute_result"
    }
   ],
   "source": [
    "plt.style.use(\"ggplot\")\n",
    "\n",
    "# 导入数据\n",
    "data =  pd.read_csv('./train.csv')\n",
    "data_c = data.copy()\n",
    "data.shape\n",
    "data.head()"
   ],
   "metadata": {
    "collapsed": false,
    "pycharm": {
     "name": "#%%\n"
    }
   }
  },
  {
   "cell_type": "code",
   "execution_count": 66,
   "outputs": [],
   "source": [
    "category_features=['TypeOfVisitor','Month','Weekend']\n",
    "numerical_features=['UserPageVisitDuration','BounceRate ','WebPageValue','BrowserServer','InformationRelatedPageVisitDuration ','ExitRate','ProductRelatedPages ','ProductRelatedPageVisitDuration','DischargePattern','InformationRelatedPage','Holiday','Area','OperatingSystem','UserRelatedPages']\n",
    "y_feature='BuyOrNot'"
   ],
   "metadata": {
    "collapsed": false,
    "pycharm": {
     "name": "#%%\n"
    }
   }
  },
  {
   "cell_type": "code",
   "execution_count": 70,
   "outputs": [],
   "source": [
    "data[category_features]=data[category_features].astype('category')"
   ],
   "metadata": {
    "collapsed": false,
    "pycharm": {
     "name": "#%%\n"
    }
   }
  },
  {
   "cell_type": "code",
   "execution_count": 71,
   "outputs": [],
   "source": [
    "#data[category_features].head()\n",
    "#类别型特征"
   ],
   "metadata": {
    "collapsed": false,
    "pycharm": {
     "name": "#%%\n"
    }
   }
  },
  {
   "cell_type": "code",
   "execution_count": 72,
   "outputs": [
    {
     "data": {
      "text/plain": "BuyOrNot\n0    7295\n1    1336\nName: count, dtype: int64"
     },
     "execution_count": 72,
     "metadata": {},
     "output_type": "execute_result"
    }
   ],
   "source": [
    "data['BuyOrNot'].value_counts()\n",
    "# 1为购买，0为未购买"
   ],
   "metadata": {
    "collapsed": false,
    "pycharm": {
     "name": "#%%\n"
    }
   }
  },
  {
   "cell_type": "code",
   "execution_count": 73,
   "outputs": [],
   "source": [
    "features=[]\n",
    "cols=data.columns.tolist()\n",
    "for each in cols:\n",
    "    if each != 'BuyOrNot':\n",
    "        features.append(each)"
   ],
   "metadata": {
    "collapsed": false,
    "pycharm": {
     "name": "#%%\n"
    }
   }
  },
  {
   "cell_type": "code",
   "execution_count": 74,
   "outputs": [
    {
     "data": {
      "text/plain": "17"
     },
     "execution_count": 74,
     "metadata": {},
     "output_type": "execute_result"
    }
   ],
   "source": [
    "len(features)"
   ],
   "metadata": {
    "collapsed": false,
    "pycharm": {
     "name": "#%%\n"
    }
   }
  },
  {
   "cell_type": "code",
   "execution_count": 75,
   "outputs": [],
   "source": [
    "train_data=data[features]\n",
    "train_target=data['BuyOrNot']"
   ],
   "metadata": {
    "collapsed": false,
    "pycharm": {
     "name": "#%%\n"
    }
   }
  },
  {
   "cell_type": "code",
   "execution_count": 76,
   "outputs": [],
   "source": [
    "X_train,X_test,y_train,y_test=train_test_split(train_data,train_target,test_size=0.2,random_state=0)"
   ],
   "metadata": {
    "collapsed": false,
    "pycharm": {
     "name": "#%%\n"
    }
   }
  },
  {
   "cell_type": "code",
   "execution_count": 77,
   "outputs": [
    {
     "data": {
      "text/plain": "(1727, 17)"
     },
     "execution_count": 77,
     "metadata": {},
     "output_type": "execute_result"
    }
   ],
   "source": [
    "X_test.shape"
   ],
   "metadata": {
    "collapsed": false,
    "pycharm": {
     "name": "#%%\n"
    }
   }
  },
  {
   "cell_type": "code",
   "execution_count": 78,
   "outputs": [
    {
     "data": {
      "text/plain": "(6904, 17)"
     },
     "execution_count": 78,
     "metadata": {},
     "output_type": "execute_result"
    }
   ],
   "source": [
    "X_train.shape"
   ],
   "metadata": {
    "collapsed": false,
    "pycharm": {
     "name": "#%%\n"
    }
   }
  },
  {
   "cell_type": "code",
   "execution_count": 79,
   "outputs": [],
   "source": [
    "#LGB格式\n",
    "lgb_train=lgb.Dataset(X_train,y_train)\n",
    "lgb_eval=lgb.Dataset(X_test,y_test,reference=lgb_train)"
   ],
   "metadata": {
    "collapsed": false,
    "pycharm": {
     "name": "#%%\n"
    }
   }
  },
  {
   "cell_type": "markdown",
   "source": [],
   "metadata": {
    "collapsed": false,
    "pycharm": {
     "name": "#%% md\n"
    }
   }
  },
  {
   "cell_type": "code",
   "execution_count": 82,
   "outputs": [],
   "source": [
    "params={\"num-leaves\":60,\n",
    "        \"objective\":\"binary\",\n",
    "        \"boosting\":\"gbdt\",\n",
    "        \"metric\":{\"binary_logloss\",\"auc\"}\n",
    "        }"
   ],
   "metadata": {
    "collapsed": false,
    "pycharm": {
     "name": "#%%\n"
    }
   }
  },
  {
   "cell_type": "code",
   "execution_count": 81,
   "outputs": [
    {
     "name": "stdout",
     "output_type": "stream",
     "text": [
      "[LightGBM] [Warning] Unknown parameter: num-leaves\n",
      "[LightGBM] [Warning] Found whitespace in feature_names, replace with underlines\n",
      "[LightGBM] [Warning] Unknown parameter: num-leaves\n",
      "[LightGBM] [Info] Number of positive: 1051, number of negative: 5853\n",
      "[LightGBM] [Warning] Auto-choosing row-wise multi-threading, the overhead of testing was 0.000427 seconds.\n",
      "You can set `force_row_wise=true` to remove the overhead.\n",
      "And if memory is not enough, you can set `force_col_wise=true`.\n",
      "[LightGBM] [Info] Total Bins 1887\n",
      "[LightGBM] [Info] Number of data points in the train set: 6904, number of used features: 17\n",
      "[LightGBM] [Warning] Unknown parameter: num-leaves\n",
      "[LightGBM] [Warning] Found whitespace in feature_names, replace with underlines\n",
      "[LightGBM] [Info] [binary:BoostFromScore]: pavg=0.152231 -> initscore=-1.717212\n",
      "[LightGBM] [Info] Start training from score -1.717212\n",
      "[1]\tvalid_0's auc: 0.902627\tvalid_0's binary_logloss: 0.401782\n",
      "Training until validation scores don't improve for 60 rounds\n",
      "[2]\tvalid_0's auc: 0.909385\tvalid_0's binary_logloss: 0.370097\n",
      "[3]\tvalid_0's auc: 0.910259\tvalid_0's binary_logloss: 0.348095\n",
      "[4]\tvalid_0's auc: 0.910119\tvalid_0's binary_logloss: 0.330921\n",
      "[5]\tvalid_0's auc: 0.910681\tvalid_0's binary_logloss: 0.317088\n",
      "[6]\tvalid_0's auc: 0.915511\tvalid_0's binary_logloss: 0.304555\n",
      "[7]\tvalid_0's auc: 0.916477\tvalid_0's binary_logloss: 0.293874\n",
      "[8]\tvalid_0's auc: 0.918621\tvalid_0's binary_logloss: 0.283998\n",
      "[9]\tvalid_0's auc: 0.924183\tvalid_0's binary_logloss: 0.276194\n",
      "[10]\tvalid_0's auc: 0.924602\tvalid_0's binary_logloss: 0.269628\n",
      "[11]\tvalid_0's auc: 0.925121\tvalid_0's binary_logloss: 0.264279\n",
      "[12]\tvalid_0's auc: 0.925579\tvalid_0's binary_logloss: 0.2594\n",
      "[13]\tvalid_0's auc: 0.92732\tvalid_0's binary_logloss: 0.254868\n",
      "[14]\tvalid_0's auc: 0.927498\tvalid_0's binary_logloss: 0.251241\n",
      "[15]\tvalid_0's auc: 0.927795\tvalid_0's binary_logloss: 0.248369\n",
      "[16]\tvalid_0's auc: 0.927508\tvalid_0's binary_logloss: 0.246438\n",
      "[17]\tvalid_0's auc: 0.930855\tvalid_0's binary_logloss: 0.243038\n",
      "[18]\tvalid_0's auc: 0.933369\tvalid_0's binary_logloss: 0.240728\n",
      "[19]\tvalid_0's auc: 0.934428\tvalid_0's binary_logloss: 0.238236\n",
      "[20]\tvalid_0's auc: 0.93472\tvalid_0's binary_logloss: 0.236545\n",
      "[21]\tvalid_0's auc: 0.93447\tvalid_0's binary_logloss: 0.235507\n",
      "[22]\tvalid_0's auc: 0.934703\tvalid_0's binary_logloss: 0.233964\n",
      "[23]\tvalid_0's auc: 0.934715\tvalid_0's binary_logloss: 0.233007\n",
      "[24]\tvalid_0's auc: 0.934725\tvalid_0's binary_logloss: 0.232418\n",
      "[25]\tvalid_0's auc: 0.934552\tvalid_0's binary_logloss: 0.231952\n",
      "[26]\tvalid_0's auc: 0.934574\tvalid_0's binary_logloss: 0.231149\n",
      "[27]\tvalid_0's auc: 0.934348\tvalid_0's binary_logloss: 0.230693\n",
      "[28]\tvalid_0's auc: 0.934103\tvalid_0's binary_logloss: 0.230334\n",
      "[29]\tvalid_0's auc: 0.9344\tvalid_0's binary_logloss: 0.229597\n",
      "[30]\tvalid_0's auc: 0.934437\tvalid_0's binary_logloss: 0.229265\n",
      "[31]\tvalid_0's auc: 0.934573\tvalid_0's binary_logloss: 0.228555\n",
      "[32]\tvalid_0's auc: 0.934715\tvalid_0's binary_logloss: 0.228207\n",
      "[33]\tvalid_0's auc: 0.934747\tvalid_0's binary_logloss: 0.227903\n",
      "[34]\tvalid_0's auc: 0.934374\tvalid_0's binary_logloss: 0.227983\n",
      "[35]\tvalid_0's auc: 0.93443\tvalid_0's binary_logloss: 0.22773\n",
      "[36]\tvalid_0's auc: 0.93451\tvalid_0's binary_logloss: 0.227625\n",
      "[37]\tvalid_0's auc: 0.934461\tvalid_0's binary_logloss: 0.227298\n",
      "[38]\tvalid_0's auc: 0.934534\tvalid_0's binary_logloss: 0.227411\n",
      "[39]\tvalid_0's auc: 0.934342\tvalid_0's binary_logloss: 0.227602\n",
      "[40]\tvalid_0's auc: 0.934374\tvalid_0's binary_logloss: 0.227335\n",
      "[41]\tvalid_0's auc: 0.934072\tvalid_0's binary_logloss: 0.227778\n",
      "[42]\tvalid_0's auc: 0.933809\tvalid_0's binary_logloss: 0.228044\n",
      "[43]\tvalid_0's auc: 0.934046\tvalid_0's binary_logloss: 0.227702\n",
      "[44]\tvalid_0's auc: 0.933856\tvalid_0's binary_logloss: 0.227794\n",
      "[45]\tvalid_0's auc: 0.933947\tvalid_0's binary_logloss: 0.227679\n",
      "[46]\tvalid_0's auc: 0.933934\tvalid_0's binary_logloss: 0.227859\n",
      "[47]\tvalid_0's auc: 0.933835\tvalid_0's binary_logloss: 0.228042\n",
      "[48]\tvalid_0's auc: 0.933988\tvalid_0's binary_logloss: 0.228028\n",
      "[49]\tvalid_0's auc: 0.934151\tvalid_0's binary_logloss: 0.227665\n",
      "[50]\tvalid_0's auc: 0.934192\tvalid_0's binary_logloss: 0.227717\n",
      "[51]\tvalid_0's auc: 0.933988\tvalid_0's binary_logloss: 0.22818\n",
      "[52]\tvalid_0's auc: 0.934236\tvalid_0's binary_logloss: 0.227988\n",
      "[53]\tvalid_0's auc: 0.934268\tvalid_0's binary_logloss: 0.227835\n",
      "[54]\tvalid_0's auc: 0.934268\tvalid_0's binary_logloss: 0.227897\n",
      "[55]\tvalid_0's auc: 0.934046\tvalid_0's binary_logloss: 0.228453\n",
      "[56]\tvalid_0's auc: 0.934041\tvalid_0's binary_logloss: 0.228392\n",
      "[57]\tvalid_0's auc: 0.934058\tvalid_0's binary_logloss: 0.228404\n",
      "[58]\tvalid_0's auc: 0.934024\tvalid_0's binary_logloss: 0.228544\n",
      "[59]\tvalid_0's auc: 0.933825\tvalid_0's binary_logloss: 0.228914\n",
      "[60]\tvalid_0's auc: 0.93364\tvalid_0's binary_logloss: 0.229228\n",
      "[61]\tvalid_0's auc: 0.93372\tvalid_0's binary_logloss: 0.228955\n",
      "[62]\tvalid_0's auc: 0.933769\tvalid_0's binary_logloss: 0.229141\n",
      "[63]\tvalid_0's auc: 0.933538\tvalid_0's binary_logloss: 0.22952\n",
      "[64]\tvalid_0's auc: 0.933603\tvalid_0's binary_logloss: 0.229453\n",
      "[65]\tvalid_0's auc: 0.933316\tvalid_0's binary_logloss: 0.23002\n",
      "[66]\tvalid_0's auc: 0.933114\tvalid_0's binary_logloss: 0.230366\n",
      "[67]\tvalid_0's auc: 0.933097\tvalid_0's binary_logloss: 0.230523\n",
      "[68]\tvalid_0's auc: 0.932944\tvalid_0's binary_logloss: 0.230813\n",
      "[69]\tvalid_0's auc: 0.932893\tvalid_0's binary_logloss: 0.230904\n",
      "[70]\tvalid_0's auc: 0.932691\tvalid_0's binary_logloss: 0.231275\n",
      "[71]\tvalid_0's auc: 0.932815\tvalid_0's binary_logloss: 0.231045\n",
      "[72]\tvalid_0's auc: 0.932791\tvalid_0's binary_logloss: 0.23109\n",
      "[73]\tvalid_0's auc: 0.932903\tvalid_0's binary_logloss: 0.231015\n",
      "[74]\tvalid_0's auc: 0.932779\tvalid_0's binary_logloss: 0.231178\n",
      "[75]\tvalid_0's auc: 0.932504\tvalid_0's binary_logloss: 0.231595\n",
      "[76]\tvalid_0's auc: 0.932302\tvalid_0's binary_logloss: 0.232039\n",
      "[77]\tvalid_0's auc: 0.93246\tvalid_0's binary_logloss: 0.231771\n",
      "[78]\tvalid_0's auc: 0.932389\tvalid_0's binary_logloss: 0.2321\n",
      "[79]\tvalid_0's auc: 0.932411\tvalid_0's binary_logloss: 0.232207\n",
      "[80]\tvalid_0's auc: 0.932406\tvalid_0's binary_logloss: 0.232353\n",
      "[81]\tvalid_0's auc: 0.932316\tvalid_0's binary_logloss: 0.23261\n",
      "[82]\tvalid_0's auc: 0.932134\tvalid_0's binary_logloss: 0.233052\n",
      "[83]\tvalid_0's auc: 0.932467\tvalid_0's binary_logloss: 0.232435\n",
      "[84]\tvalid_0's auc: 0.932594\tvalid_0's binary_logloss: 0.232466\n",
      "[85]\tvalid_0's auc: 0.932835\tvalid_0's binary_logloss: 0.232256\n",
      "[86]\tvalid_0's auc: 0.932742\tvalid_0's binary_logloss: 0.232495\n",
      "[87]\tvalid_0's auc: 0.932679\tvalid_0's binary_logloss: 0.232725\n",
      "[88]\tvalid_0's auc: 0.932521\tvalid_0's binary_logloss: 0.233021\n",
      "[89]\tvalid_0's auc: 0.932467\tvalid_0's binary_logloss: 0.233352\n",
      "[90]\tvalid_0's auc: 0.9328\tvalid_0's binary_logloss: 0.232847\n",
      "[91]\tvalid_0's auc: 0.93283\tvalid_0's binary_logloss: 0.23278\n",
      "[92]\tvalid_0's auc: 0.932864\tvalid_0's binary_logloss: 0.232659\n",
      "[93]\tvalid_0's auc: 0.932543\tvalid_0's binary_logloss: 0.233179\n",
      "Early stopping, best iteration is:\n",
      "[33]\tvalid_0's auc: 0.934747\tvalid_0's binary_logloss: 0.227903\n"
     ]
    },
    {
     "name": "stderr",
     "output_type": "stream",
     "text": [
      "C:\\Users\\h\\anaconda3\\envs\\py_dataAnalysis\\lib\\site-packages\\lightgbm\\engine.py:181: UserWarning: 'early_stopping_rounds' argument is deprecated and will be removed in a future release of LightGBM. Pass 'early_stopping()' callback via 'callbacks' argument instead.\n",
      "  _log_warning(\"'early_stopping_rounds' argument is deprecated and will be removed in a future release of LightGBM. \"\n",
      "C:\\Users\\h\\anaconda3\\envs\\py_dataAnalysis\\lib\\site-packages\\lightgbm\\basic.py:1780: UserWarning: Overriding the parameters from Reference Dataset.\n",
      "  _log_warning('Overriding the parameters from Reference Dataset.')\n",
      "C:\\Users\\h\\anaconda3\\envs\\py_dataAnalysis\\lib\\site-packages\\lightgbm\\basic.py:1513: UserWarning: categorical_column in param dict is overridden.\n",
      "  _log_warning(f'{cat_alias} in param dict is overridden.')\n"
     ]
    }
   ],
   "source": [
    "clf=lgb.train(params,lgb_train,num_boost_round=200,valid_sets=lgb_eval,early_stopping_rounds=60,feature_name=features)"
   ],
   "metadata": {
    "collapsed": false,
    "pycharm": {
     "name": "#%%\n"
    }
   }
  },
  {
   "cell_type": "code",
   "execution_count": 89,
   "outputs": [],
   "source": [
    "probs=clf.predict(X_test,num_iteration=clf.best_iteration)"
   ],
   "metadata": {
    "collapsed": false,
    "pycharm": {
     "name": "#%%\n"
    }
   }
  },
  {
   "cell_type": "code",
   "execution_count": 90,
   "outputs": [
    {
     "data": {
      "text/plain": "array([0.01583974, 0.21036819, 0.01169468, ..., 0.10050444, 0.04144126,\n       0.01253157])"
     },
     "execution_count": 90,
     "metadata": {},
     "output_type": "execute_result"
    }
   ],
   "source": [
    "probs"
   ],
   "metadata": {
    "collapsed": false,
    "pycharm": {
     "name": "#%%\n"
    }
   }
  },
  {
   "cell_type": "code",
   "execution_count": 91,
   "outputs": [],
   "source": [
    "preds=[0 if each<0.5 else 1 for each in probs]"
   ],
   "metadata": {
    "collapsed": false,
    "pycharm": {
     "name": "#%%\n"
    }
   }
  },
  {
   "cell_type": "code",
   "execution_count": 94,
   "outputs": [
    {
     "name": "stdout",
     "output_type": "stream",
     "text": [
      "准确率是0.9044585987261147\n"
     ]
    }
   ],
   "source": [
    "count=0\n",
    "for i in range(len(preds)):\n",
    "    if preds[i]==y_test.iloc[i]:\n",
    "        count+=1\n",
    "print('准确率是{}'.format(count/len(preds)))"
   ],
   "metadata": {
    "collapsed": false,
    "pycharm": {
     "name": "#%%\n"
    }
   }
  },
  {
   "cell_type": "code",
   "execution_count": 97,
   "outputs": [
    {
     "data": {
      "text/plain": "0.9347470618293305"
     },
     "execution_count": 97,
     "metadata": {},
     "output_type": "execute_result"
    }
   ],
   "source": [
    "metrics.roc_auc_score(y_test,probs)"
   ],
   "metadata": {
    "collapsed": false,
    "pycharm": {
     "name": "#%%\n"
    }
   }
  },
  {
   "cell_type": "markdown",
   "source": [],
   "metadata": {
    "collapsed": false,
    "pycharm": {
     "name": "#%% md\n"
    }
   }
  },
  {
   "cell_type": "markdown",
   "source": [],
   "metadata": {
    "collapsed": false,
    "pycharm": {
     "name": "#%% md\n"
    }
   }
  },
  {
   "cell_type": "code",
   "execution_count": 98,
   "outputs": [
    {
     "data": {
      "text/plain": "<lightgbm.basic.Booster at 0x1ed2de31bd0>"
     },
     "execution_count": 98,
     "metadata": {},
     "output_type": "execute_result"
    }
   ],
   "source": [
    "clf.save_model('./model.txt')"
   ],
   "metadata": {
    "collapsed": false,
    "pycharm": {
     "name": "#%%\n"
    }
   }
  },
  {
   "cell_type": "code",
   "execution_count": 103,
   "outputs": [
    {
     "data": {
      "text/plain": "['clf.model']"
     },
     "execution_count": 103,
     "metadata": {},
     "output_type": "execute_result"
    }
   ],
   "source": [
    "joblib.dump(filename='clf.model',value=clf)"
   ],
   "metadata": {
    "collapsed": false,
    "pycharm": {
     "name": "#%%\n"
    }
   }
  },
  {
   "cell_type": "code",
   "execution_count": 104,
   "outputs": [],
   "source": [
    "model1=joblib.load(filename=\"clf.model\")"
   ],
   "metadata": {
    "collapsed": false,
    "pycharm": {
     "name": "#%%\n"
    }
   }
  },
  {
   "cell_type": "code",
   "execution_count": 111,
   "outputs": [],
   "source": [
    "data1=pd.DataFrame(data=preds)\n",
    "\n",
    "data1.to_csv('./test.csv',index=False) # 如果生成excel，可以用to_exce"
   ],
   "metadata": {
    "collapsed": false,
    "pycharm": {
     "name": "#%%\n"
    }
   }
  },
  {
   "cell_type": "code",
   "execution_count": null,
   "outputs": [],
   "source": [],
   "metadata": {
    "collapsed": false,
    "pycharm": {
     "name": "#%%\n"
    }
   }
  }
 ],
 "metadata": {
  "kernelspec": {
   "display_name": "Python 3",
   "language": "python",
   "name": "python3"
  },
  "language_info": {
   "codemirror_mode": {
    "name": "ipython",
    "version": 2
   },
   "file_extension": ".py",
   "mimetype": "text/x-python",
   "name": "python",
   "nbconvert_exporter": "python",
   "pygments_lexer": "ipython2",
   "version": "2.7.6"
  }
 },
 "nbformat": 4,
 "nbformat_minor": 0
}